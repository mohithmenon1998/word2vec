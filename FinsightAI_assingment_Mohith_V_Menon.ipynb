{
  "nbformat": 4,
  "nbformat_minor": 5,
  "metadata": {
    "kernelspec": {
      "display_name": "Python 3",
      "language": "python",
      "name": "python3"
    },
    "language_info": {
      "codemirror_mode": {
        "name": "ipython",
        "version": 3
      },
      "file_extension": ".py",
      "mimetype": "text/x-python",
      "name": "python",
      "nbconvert_exporter": "python",
      "pygments_lexer": "ipython3",
      "version": "3.8.5"
    },
    "colab": {
      "name": "FinsightAI_assingment_Mohith_V_Menon.ipynb",
      "provenance": [],
      "collapsed_sections": []
    },
    "accelerator": "GPU"
  },
  "cells": [
    {
      "cell_type": "markdown",
      "metadata": {
        "id": "mfn8rK8dvR3x"
      },
      "source": [
        "#**MOHITH V MENON**\n",
        "FinsightAI Assingment"
      ],
      "id": "mfn8rK8dvR3x"
    },
    {
      "cell_type": "markdown",
      "metadata": {
        "id": "GKZx4Fybvo7J"
      },
      "source": [
        "#**Build a custom Word2Vec model and share the script with us with appropriate comments**"
      ],
      "id": "GKZx4Fybvo7J"
    },
    {
      "cell_type": "code",
      "metadata": {
        "colab": {
          "base_uri": "https://localhost:8080/"
        },
        "id": "cordless-gnome",
        "outputId": "fa0e42f2-bcc3-42b2-fd05-91411c8e90e4"
      },
      "source": [
        "!pip install gensim\n",
        "!pip install python-Levenshtein"
      ],
      "id": "cordless-gnome",
      "execution_count": 1,
      "outputs": [
        {
          "output_type": "stream",
          "text": [
            "Requirement already satisfied: gensim in /usr/local/lib/python3.7/dist-packages (3.6.0)\n",
            "Requirement already satisfied: six>=1.5.0 in /usr/local/lib/python3.7/dist-packages (from gensim) (1.15.0)\n",
            "Requirement already satisfied: scipy>=0.18.1 in /usr/local/lib/python3.7/dist-packages (from gensim) (1.4.1)\n",
            "Requirement already satisfied: smart-open>=1.2.1 in /usr/local/lib/python3.7/dist-packages (from gensim) (5.1.0)\n",
            "Requirement already satisfied: numpy>=1.11.3 in /usr/local/lib/python3.7/dist-packages (from gensim) (1.19.5)\n",
            "Collecting python-Levenshtein\n",
            "  Downloading python-Levenshtein-0.12.2.tar.gz (50 kB)\n",
            "\u001b[K     |████████████████████████████████| 50 kB 3.1 MB/s \n",
            "\u001b[?25hRequirement already satisfied: setuptools in /usr/local/lib/python3.7/dist-packages (from python-Levenshtein) (57.4.0)\n",
            "Building wheels for collected packages: python-Levenshtein\n",
            "  Building wheel for python-Levenshtein (setup.py) ... \u001b[?25l\u001b[?25hdone\n",
            "  Created wheel for python-Levenshtein: filename=python_Levenshtein-0.12.2-cp37-cp37m-linux_x86_64.whl size=149866 sha256=61a11d9682489fc4a1e14deb8ac3e0dda051d3a65291d54aa660d926c507964e\n",
            "  Stored in directory: /root/.cache/pip/wheels/05/5f/ca/7c4367734892581bb5ff896f15027a932c551080b2abd3e00d\n",
            "Successfully built python-Levenshtein\n",
            "Installing collected packages: python-Levenshtein\n",
            "Successfully installed python-Levenshtein-0.12.2\n"
          ],
          "name": "stdout"
        }
      ]
    },
    {
      "cell_type": "code",
      "metadata": {
        "id": "conceptual-transcription"
      },
      "source": [
        "import gensim\n",
        "import pandas as pd"
      ],
      "id": "conceptual-transcription",
      "execution_count": 2,
      "outputs": []
    },
    {
      "cell_type": "markdown",
      "metadata": {
        "id": "still-saver"
      },
      "source": [
        "### Reading and Exploring the Dataset\n",
        "The dataset we are using here is a subset of Amazon reviews from the Sports & Outdoors category. The data is stored as a JSON file and can be read using pandas.\n",
        "\n",
        "Link to the Dataset: http://snap.stanford.edu/data/amazon/productGraph/categoryFiles/reviews_Sports_and_Outdoors_5.json.gz"
      ],
      "id": "still-saver"
    },
    {
      "cell_type": "code",
      "metadata": {
        "colab": {
          "base_uri": "https://localhost:8080/"
        },
        "id": "LkAEEBiCs1kz",
        "outputId": "886cbb6e-7cb7-4c46-f98b-54f539d996a0"
      },
      "source": [
        "!wget http://snap.stanford.edu/data/amazon/productGraph/categoryFiles/reviews_Sports_and_Outdoors_5.json.gz"
      ],
      "id": "LkAEEBiCs1kz",
      "execution_count": 3,
      "outputs": [
        {
          "output_type": "stream",
          "text": [
            "--2021-08-29 16:21:24--  http://snap.stanford.edu/data/amazon/productGraph/categoryFiles/reviews_Sports_and_Outdoors_5.json.gz\n",
            "Resolving snap.stanford.edu (snap.stanford.edu)... 171.64.75.80\n",
            "Connecting to snap.stanford.edu (snap.stanford.edu)|171.64.75.80|:80... connected.\n",
            "HTTP request sent, awaiting response... 200 OK\n",
            "Length: 68275834 (65M) [application/x-gzip]\n",
            "Saving to: ‘reviews_Sports_and_Outdoors_5.json.gz’\n",
            "\n",
            "reviews_Sports_and_ 100%[===================>]  65.11M  40.0MB/s    in 1.6s    \n",
            "\n",
            "2021-08-29 16:21:25 (40.0 MB/s) - ‘reviews_Sports_and_Outdoors_5.json.gz’ saved [68275834/68275834]\n",
            "\n"
          ],
          "name": "stdout"
        }
      ]
    },
    {
      "cell_type": "code",
      "metadata": {
        "colab": {
          "base_uri": "https://localhost:8080/",
          "height": 587
        },
        "id": "residential-people",
        "outputId": "debc3708-9885-49ce-917e-df24adf9a5c1"
      },
      "source": [
        "df = pd.read_json(\"/content/reviews_Sports_and_Outdoors_5.json.gz\", lines=True)\n",
        "df"
      ],
      "id": "residential-people",
      "execution_count": 4,
      "outputs": [
        {
          "output_type": "execute_result",
          "data": {
            "text/html": [
              "<div>\n",
              "<style scoped>\n",
              "    .dataframe tbody tr th:only-of-type {\n",
              "        vertical-align: middle;\n",
              "    }\n",
              "\n",
              "    .dataframe tbody tr th {\n",
              "        vertical-align: top;\n",
              "    }\n",
              "\n",
              "    .dataframe thead th {\n",
              "        text-align: right;\n",
              "    }\n",
              "</style>\n",
              "<table border=\"1\" class=\"dataframe\">\n",
              "  <thead>\n",
              "    <tr style=\"text-align: right;\">\n",
              "      <th></th>\n",
              "      <th>reviewerID</th>\n",
              "      <th>asin</th>\n",
              "      <th>reviewerName</th>\n",
              "      <th>helpful</th>\n",
              "      <th>reviewText</th>\n",
              "      <th>overall</th>\n",
              "      <th>summary</th>\n",
              "      <th>unixReviewTime</th>\n",
              "      <th>reviewTime</th>\n",
              "    </tr>\n",
              "  </thead>\n",
              "  <tbody>\n",
              "    <tr>\n",
              "      <th>0</th>\n",
              "      <td>AIXZKN4ACSKI</td>\n",
              "      <td>1881509818</td>\n",
              "      <td>David Briner</td>\n",
              "      <td>[0, 0]</td>\n",
              "      <td>This came in on time and I am veru happy with ...</td>\n",
              "      <td>5</td>\n",
              "      <td>Woks very good</td>\n",
              "      <td>1390694400</td>\n",
              "      <td>01 26, 2014</td>\n",
              "    </tr>\n",
              "    <tr>\n",
              "      <th>1</th>\n",
              "      <td>A1L5P841VIO02V</td>\n",
              "      <td>1881509818</td>\n",
              "      <td>Jason A. Kramer</td>\n",
              "      <td>[1, 1]</td>\n",
              "      <td>I had a factory Glock tool that I was using fo...</td>\n",
              "      <td>5</td>\n",
              "      <td>Works as well as the factory tool</td>\n",
              "      <td>1328140800</td>\n",
              "      <td>02 2, 2012</td>\n",
              "    </tr>\n",
              "    <tr>\n",
              "      <th>2</th>\n",
              "      <td>AB2W04NI4OEAD</td>\n",
              "      <td>1881509818</td>\n",
              "      <td>J. Fernald</td>\n",
              "      <td>[2, 2]</td>\n",
              "      <td>If you don't have a 3/32 punch or would like t...</td>\n",
              "      <td>4</td>\n",
              "      <td>It's a punch, that's all.</td>\n",
              "      <td>1330387200</td>\n",
              "      <td>02 28, 2012</td>\n",
              "    </tr>\n",
              "    <tr>\n",
              "      <th>3</th>\n",
              "      <td>A148SVSWKTJKU6</td>\n",
              "      <td>1881509818</td>\n",
              "      <td>Jusitn A. Watts \"Maverick9614\"</td>\n",
              "      <td>[0, 0]</td>\n",
              "      <td>This works no better than any 3/32 punch you w...</td>\n",
              "      <td>4</td>\n",
              "      <td>It's a punch with a Glock logo.</td>\n",
              "      <td>1328400000</td>\n",
              "      <td>02 5, 2012</td>\n",
              "    </tr>\n",
              "    <tr>\n",
              "      <th>4</th>\n",
              "      <td>AAAWJ6LW9WMOO</td>\n",
              "      <td>1881509818</td>\n",
              "      <td>Material Man</td>\n",
              "      <td>[0, 0]</td>\n",
              "      <td>I purchased this thinking maybe I need a speci...</td>\n",
              "      <td>4</td>\n",
              "      <td>Ok,tool does what a regular punch does.</td>\n",
              "      <td>1366675200</td>\n",
              "      <td>04 23, 2013</td>\n",
              "    </tr>\n",
              "    <tr>\n",
              "      <th>...</th>\n",
              "      <td>...</td>\n",
              "      <td>...</td>\n",
              "      <td>...</td>\n",
              "      <td>...</td>\n",
              "      <td>...</td>\n",
              "      <td>...</td>\n",
              "      <td>...</td>\n",
              "      <td>...</td>\n",
              "      <td>...</td>\n",
              "    </tr>\n",
              "    <tr>\n",
              "      <th>296332</th>\n",
              "      <td>A2XX2A4OJCDNLZ</td>\n",
              "      <td>B00LFPS0CY</td>\n",
              "      <td>RatherLiveInKeyWest</td>\n",
              "      <td>[2, 3]</td>\n",
              "      <td>This is a water bottle done right. It is a ver...</td>\n",
              "      <td>5</td>\n",
              "      <td>Hydracentials Sporty 25 Oz Stainless Steel Wat...</td>\n",
              "      <td>1405036800</td>\n",
              "      <td>07 11, 2014</td>\n",
              "    </tr>\n",
              "    <tr>\n",
              "      <th>296333</th>\n",
              "      <td>A3LGT6UZL99IW1</td>\n",
              "      <td>B00LFPS0CY</td>\n",
              "      <td>Richard C. Drew \"Anaal Nathra/Uthe vas Bethod...</td>\n",
              "      <td>[0, 0]</td>\n",
              "      <td>If you're looking for an insulated water bottl...</td>\n",
              "      <td>5</td>\n",
              "      <td>Large, incredibly well made water bottle!</td>\n",
              "      <td>1405641600</td>\n",
              "      <td>07 18, 2014</td>\n",
              "    </tr>\n",
              "    <tr>\n",
              "      <th>296334</th>\n",
              "      <td>ASKZO80Z1RKTR</td>\n",
              "      <td>B00LFPS0CY</td>\n",
              "      <td>Robin Lee</td>\n",
              "      <td>[0, 0]</td>\n",
              "      <td>This Hydracentials Sporty 25 OZ, double insula...</td>\n",
              "      <td>5</td>\n",
              "      <td>\"Great Water Bottle For Hot Day\"......</td>\n",
              "      <td>1405900800</td>\n",
              "      <td>07 21, 2014</td>\n",
              "    </tr>\n",
              "    <tr>\n",
              "      <th>296335</th>\n",
              "      <td>APRNS6DB68LLV</td>\n",
              "      <td>B00LFPS0CY</td>\n",
              "      <td>Rob Slaven \"slavenrm@gmail. com\"</td>\n",
              "      <td>[1, 1]</td>\n",
              "      <td>As usual I received this item free in exchange...</td>\n",
              "      <td>5</td>\n",
              "      <td>A pretty impressive water bottle.  Best I've s...</td>\n",
              "      <td>1405900800</td>\n",
              "      <td>07 21, 2014</td>\n",
              "    </tr>\n",
              "    <tr>\n",
              "      <th>296336</th>\n",
              "      <td>A3UJRNI8UR4871</td>\n",
              "      <td>B00LFPS0CY</td>\n",
              "      <td>Wulfstan \"wulfstan\"</td>\n",
              "      <td>[2, 2]</td>\n",
              "      <td>Hydracentials insulated 25 oz water bottle.Thi...</td>\n",
              "      <td>5</td>\n",
              "      <td>\"Cool\" Bottle!</td>\n",
              "      <td>1405382400</td>\n",
              "      <td>07 15, 2014</td>\n",
              "    </tr>\n",
              "  </tbody>\n",
              "</table>\n",
              "<p>296337 rows × 9 columns</p>\n",
              "</div>"
            ],
            "text/plain": [
              "            reviewerID        asin  ... unixReviewTime   reviewTime\n",
              "0         AIXZKN4ACSKI  1881509818  ...     1390694400  01 26, 2014\n",
              "1       A1L5P841VIO02V  1881509818  ...     1328140800   02 2, 2012\n",
              "2        AB2W04NI4OEAD  1881509818  ...     1330387200  02 28, 2012\n",
              "3       A148SVSWKTJKU6  1881509818  ...     1328400000   02 5, 2012\n",
              "4        AAAWJ6LW9WMOO  1881509818  ...     1366675200  04 23, 2013\n",
              "...                ...         ...  ...            ...          ...\n",
              "296332  A2XX2A4OJCDNLZ  B00LFPS0CY  ...     1405036800  07 11, 2014\n",
              "296333  A3LGT6UZL99IW1  B00LFPS0CY  ...     1405641600  07 18, 2014\n",
              "296334   ASKZO80Z1RKTR  B00LFPS0CY  ...     1405900800  07 21, 2014\n",
              "296335   APRNS6DB68LLV  B00LFPS0CY  ...     1405900800  07 21, 2014\n",
              "296336  A3UJRNI8UR4871  B00LFPS0CY  ...     1405382400  07 15, 2014\n",
              "\n",
              "[296337 rows x 9 columns]"
            ]
          },
          "metadata": {},
          "execution_count": 4
        }
      ]
    },
    {
      "cell_type": "code",
      "metadata": {
        "colab": {
          "base_uri": "https://localhost:8080/"
        },
        "id": "parliamentary-relations",
        "outputId": "2bbcc369-38c2-438d-af15-f30b363dd8a9"
      },
      "source": [
        "df.shape"
      ],
      "id": "parliamentary-relations",
      "execution_count": 5,
      "outputs": [
        {
          "output_type": "execute_result",
          "data": {
            "text/plain": [
              "(296337, 9)"
            ]
          },
          "metadata": {},
          "execution_count": 5
        }
      ]
    },
    {
      "cell_type": "markdown",
      "metadata": {
        "id": "sensitive-peoples"
      },
      "source": [
        "### Simple Preprocessing & Tokenization\n",
        "The first thing to do for any data science task is to clean the data.\n",
        "For NLP, we apply various processing like converting all the words to lower case, trimming spaces, removing punctuations. \n",
        "This is something we will do over here too.\n",
        "\n",
        "Additionally, we can also remove stop words like 'and', 'or', 'is', 'the', 'a', 'an' and convert words to their root forms like 'running' to 'run'."
      ],
      "id": "sensitive-peoples"
    },
    {
      "cell_type": "code",
      "metadata": {
        "id": "informational-power"
      },
      "source": [
        "review_text = df.reviewText.apply(gensim.utils.simple_preprocess)"
      ],
      "id": "informational-power",
      "execution_count": 6,
      "outputs": []
    },
    {
      "cell_type": "code",
      "metadata": {
        "colab": {
          "base_uri": "https://localhost:8080/"
        },
        "id": "flush-courtesy",
        "outputId": "053f94a3-9e0e-4364-f5bc-f8f040262e16"
      },
      "source": [
        "review_text"
      ],
      "id": "flush-courtesy",
      "execution_count": 7,
      "outputs": [
        {
          "output_type": "execute_result",
          "data": {
            "text/plain": [
              "0         [this, came, in, on, time, and, am, veru, happ...\n",
              "1         [had, factory, glock, tool, that, was, using, ...\n",
              "2         [if, you, don, have, punch, or, would, like, t...\n",
              "3         [this, works, no, better, than, any, punch, yo...\n",
              "4         [purchased, this, thinking, maybe, need, speci...\n",
              "                                ...                        \n",
              "296332    [this, is, water, bottle, done, right, it, is,...\n",
              "296333    [if, you, re, looking, for, an, insulated, wat...\n",
              "296334    [this, hydracentials, sporty, oz, double, insu...\n",
              "296335    [as, usual, received, this, item, free, in, ex...\n",
              "296336    [hydracentials, insulated, oz, water, bottle, ...\n",
              "Name: reviewText, Length: 296337, dtype: object"
            ]
          },
          "metadata": {},
          "execution_count": 7
        }
      ]
    },
    {
      "cell_type": "code",
      "metadata": {
        "colab": {
          "base_uri": "https://localhost:8080/"
        },
        "id": "chief-postage",
        "outputId": "67dea46e-80c8-4292-aeea-838933088f30"
      },
      "source": [
        "review_text.loc[0]"
      ],
      "id": "chief-postage",
      "execution_count": 8,
      "outputs": [
        {
          "output_type": "execute_result",
          "data": {
            "text/plain": [
              "['this',\n",
              " 'came',\n",
              " 'in',\n",
              " 'on',\n",
              " 'time',\n",
              " 'and',\n",
              " 'am',\n",
              " 'veru',\n",
              " 'happy',\n",
              " 'with',\n",
              " 'it',\n",
              " 'haved',\n",
              " 'used',\n",
              " 'it',\n",
              " 'already',\n",
              " 'and',\n",
              " 'it',\n",
              " 'makes',\n",
              " 'taking',\n",
              " 'out',\n",
              " 'the',\n",
              " 'pins',\n",
              " 'in',\n",
              " 'my',\n",
              " 'glock',\n",
              " 'very',\n",
              " 'easy']"
            ]
          },
          "metadata": {},
          "execution_count": 8
        }
      ]
    },
    {
      "cell_type": "code",
      "metadata": {
        "colab": {
          "base_uri": "https://localhost:8080/",
          "height": 36
        },
        "id": "helpful-navigation",
        "outputId": "1a37a151-e93a-4c14-b6b4-1539f31bc18a"
      },
      "source": [
        "df.reviewText.loc[0]"
      ],
      "id": "helpful-navigation",
      "execution_count": 9,
      "outputs": [
        {
          "output_type": "execute_result",
          "data": {
            "application/vnd.google.colaboratory.intrinsic+json": {
              "type": "string"
            },
            "text/plain": [
              "'This came in on time and I am veru happy with it, I haved used it already and it makes taking out the pins in my glock 32 very easy'"
            ]
          },
          "metadata": {},
          "execution_count": 9
        }
      ]
    },
    {
      "cell_type": "markdown",
      "metadata": {
        "id": "engaging-yorkshire"
      },
      "source": [
        "### Training the Word2Vec Model\n",
        "\n",
        "Train the model for reviews. Use a window of size 10 i.e. 10 words before the present word and 10 words ahead. A sentence with at least 2 words should only be considered, configure this using min_count parameter.\n",
        "\n",
        "Workers define how many CPU threads to be used."
      ],
      "id": "engaging-yorkshire"
    },
    {
      "cell_type": "markdown",
      "metadata": {
        "id": "civic-links"
      },
      "source": [
        "#### Initialize the model"
      ],
      "id": "civic-links"
    },
    {
      "cell_type": "code",
      "metadata": {
        "id": "determined-disclosure"
      },
      "source": [
        "model = gensim.models.Word2Vec(\n",
        "    window=10,\n",
        "    min_count=2,\n",
        "    workers=4,\n",
        ")\n"
      ],
      "id": "determined-disclosure",
      "execution_count": 10,
      "outputs": []
    },
    {
      "cell_type": "markdown",
      "metadata": {
        "id": "olympic-manner"
      },
      "source": [
        "#### Build Vocabulary"
      ],
      "id": "olympic-manner"
    },
    {
      "cell_type": "code",
      "metadata": {
        "id": "juvenile-dubai"
      },
      "source": [
        "model.build_vocab(review_text, progress_per=1000)"
      ],
      "id": "juvenile-dubai",
      "execution_count": 11,
      "outputs": []
    },
    {
      "cell_type": "markdown",
      "metadata": {
        "id": "pharmaceutical-adoption"
      },
      "source": [
        "#### Train the Word2Vec Model"
      ],
      "id": "pharmaceutical-adoption"
    },
    {
      "cell_type": "code",
      "metadata": {
        "colab": {
          "base_uri": "https://localhost:8080/"
        },
        "id": "adopted-kentucky",
        "outputId": "89521b3e-d63a-4d0c-b475-7396005085c3"
      },
      "source": [
        "model.train(review_text, total_examples=model.corpus_count, epochs=model.epochs)"
      ],
      "id": "adopted-kentucky",
      "execution_count": 12,
      "outputs": [
        {
          "output_type": "execute_result",
          "data": {
            "text/plain": [
              "(91336270, 121496535)"
            ]
          },
          "metadata": {},
          "execution_count": 12
        }
      ]
    },
    {
      "cell_type": "markdown",
      "metadata": {
        "id": "creative-convert"
      },
      "source": [
        "### Finding Similar Words and Similarity between words\n"
      ],
      "id": "creative-convert"
    },
    {
      "cell_type": "code",
      "metadata": {
        "colab": {
          "base_uri": "https://localhost:8080/"
        },
        "id": "legislative-bearing",
        "outputId": "72d7a426-efe1-4ce5-dc59-0076fd0b6f89"
      },
      "source": [
        "model.wv.most_similar(\"awful\")"
      ],
      "id": "legislative-bearing",
      "execution_count": 13,
      "outputs": [
        {
          "output_type": "execute_result",
          "data": {
            "text/plain": [
              "[('horrible', 0.7217528820037842),\n",
              " ('terrible', 0.6626989841461182),\n",
              " ('unpleasant', 0.6402949094772339),\n",
              " ('ugly', 0.6239018440246582),\n",
              " ('overwhelming', 0.5730533003807068),\n",
              " ('icky', 0.5572296380996704),\n",
              " ('funny', 0.5537139773368835),\n",
              " ('enormous', 0.5486782789230347),\n",
              " ('obvious', 0.547097384929657),\n",
              " ('unfortunate', 0.5432472825050354)]"
            ]
          },
          "metadata": {},
          "execution_count": 13
        }
      ]
    },
    {
      "cell_type": "code",
      "metadata": {
        "colab": {
          "base_uri": "https://localhost:8080/"
        },
        "id": "sacred-mathematics",
        "outputId": "c6b9e9e9-08de-4074-c23b-8c2f39f58fa1"
      },
      "source": [
        "model.wv.similarity(w1=\"good\", w2=\"great\")"
      ],
      "id": "sacred-mathematics",
      "execution_count": 14,
      "outputs": [
        {
          "output_type": "execute_result",
          "data": {
            "text/plain": [
              "0.7821092"
            ]
          },
          "metadata": {},
          "execution_count": 14
        }
      ]
    },
    {
      "cell_type": "code",
      "metadata": {
        "colab": {
          "base_uri": "https://localhost:8080/"
        },
        "id": "described-smile",
        "outputId": "41a5fb43-b5ce-47e6-b222-1d65713816ec"
      },
      "source": [
        "model.wv.similarity(w1=\"slow\", w2=\"steady\")"
      ],
      "id": "described-smile",
      "execution_count": 15,
      "outputs": [
        {
          "output_type": "execute_result",
          "data": {
            "text/plain": [
              "0.3942196"
            ]
          },
          "metadata": {},
          "execution_count": 15
        }
      ]
    }
  ]
}